{
 "cells": [
  {
   "cell_type": "code",
   "execution_count": null,
   "id": "7d709263-5699-423f-9c59-4e9f3996dfdc",
   "metadata": {},
   "outputs": [],
   "source": [
    " LeetCode 225. Implement Stack using Queues"
   ]
  },
  {
   "cell_type": "code",
   "execution_count": null,
   "id": "910ff670-7766-4a79-8e20-d52974374390",
   "metadata": {},
   "outputs": [],
   "source": [
    " LeetCode 232. Implement Queue using Stacks"
   ]
  },
  {
   "cell_type": "code",
   "execution_count": null,
   "id": "e2f6e704-ee93-40d6-ab17-0a6914a72c51",
   "metadata": {},
   "outputs": [],
   "source": [
    "교재의 큐 연습문제 전부"
   ]
  }
 ],
 "metadata": {
  "kernelspec": {
   "display_name": "Python 3 (ipykernel)",
   "language": "python",
   "name": "python3"
  },
  "language_info": {
   "codemirror_mode": {
    "name": "ipython",
    "version": 3
   },
   "file_extension": ".py",
   "mimetype": "text/x-python",
   "name": "python",
   "nbconvert_exporter": "python",
   "pygments_lexer": "ipython3",
   "version": "3.9.12"
  }
 },
 "nbformat": 4,
 "nbformat_minor": 5
}
